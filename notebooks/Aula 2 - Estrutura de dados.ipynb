{
 "cells": [
  {
   "cell_type": "markdown",
   "id": "00eea788",
   "metadata": {},
   "source": [
    "# **Aula 2 - Estrutura de dados**"
   ]
  },
  {
   "cell_type": "markdown",
   "id": "027370ae",
   "metadata": {},
   "source": [
    "## *Listas*"
   ]
  },
  {
   "cell_type": "code",
   "execution_count": 3,
   "id": "41b25dce",
   "metadata": {},
   "outputs": [
    {
     "data": {
      "text/plain": [
       "[1, 2, 3]"
      ]
     },
     "execution_count": 3,
     "metadata": {},
     "output_type": "execute_result"
    }
   ],
   "source": [
    "#Criando uma lista chamada animais\n",
    "animais = [1,2,3]\n",
    "animais"
   ]
  },
  {
   "cell_type": "code",
   "execution_count": 4,
   "id": "13fff7f6",
   "metadata": {},
   "outputs": [
    {
     "data": {
      "text/plain": [
       "['cachorro', 'gato', 12345, 6.5]"
      ]
     },
     "execution_count": 4,
     "metadata": {},
     "output_type": "execute_result"
    }
   ],
   "source": [
    "animais = [\"cachorro\", \"gato\", 12345, 6.5]\n",
    "animais"
   ]
  },
  {
   "cell_type": "code",
   "execution_count": 5,
   "id": "8d73e184",
   "metadata": {},
   "outputs": [
    {
     "data": {
      "text/plain": [
       "'cachorro'"
      ]
     },
     "execution_count": 5,
     "metadata": {},
     "output_type": "execute_result"
    }
   ],
   "source": [
    "#Imprimindo o primeiro elemento da lista\n",
    "animais[0]"
   ]
  },
  {
   "cell_type": "code",
   "execution_count": 6,
   "id": "6b0d2fda",
   "metadata": {},
   "outputs": [
    {
     "data": {
      "text/plain": [
       "6.5"
      ]
     },
     "execution_count": 6,
     "metadata": {},
     "output_type": "execute_result"
    }
   ],
   "source": [
    "#Imprimindo o 4 elemento da lista\n",
    "animais[3]"
   ]
  },
  {
   "cell_type": "code",
   "execution_count": 7,
   "id": "1777cd32",
   "metadata": {},
   "outputs": [],
   "source": [
    "#Substituindo o primeiro elemento da lista\n",
    "animais[0] = \"papagaio\""
   ]
  },
  {
   "cell_type": "code",
   "execution_count": 8,
   "id": "1d8d08ba",
   "metadata": {},
   "outputs": [
    {
     "data": {
      "text/plain": [
       "['papagaio', 'gato', 12345, 6.5]"
      ]
     },
     "execution_count": 8,
     "metadata": {},
     "output_type": "execute_result"
    }
   ],
   "source": [
    "animais"
   ]
  },
  {
   "cell_type": "code",
   "execution_count": 9,
   "id": "d63b9a5c",
   "metadata": {},
   "outputs": [],
   "source": [
    "#Removendo gato da lista\n",
    "animais.remove(\"gato\")"
   ]
  },
  {
   "cell_type": "code",
   "execution_count": 10,
   "id": "3d48e158",
   "metadata": {},
   "outputs": [
    {
     "data": {
      "text/plain": [
       "['papagaio', 12345, 6.5]"
      ]
     },
     "execution_count": 10,
     "metadata": {},
     "output_type": "execute_result"
    }
   ],
   "source": [
    "animais"
   ]
  },
  {
   "cell_type": "code",
   "execution_count": 11,
   "id": "28ffec22",
   "metadata": {},
   "outputs": [
    {
     "data": {
      "text/plain": [
       "3"
      ]
     },
     "execution_count": 11,
     "metadata": {},
     "output_type": "execute_result"
    }
   ],
   "source": [
    "len(animais)"
   ]
  },
  {
   "cell_type": "code",
   "execution_count": 12,
   "id": "00a369e0",
   "metadata": {},
   "outputs": [
    {
     "data": {
      "text/plain": [
       "False"
      ]
     },
     "execution_count": 12,
     "metadata": {},
     "output_type": "execute_result"
    }
   ],
   "source": [
    "\"gato\" in animais"
   ]
  },
  {
   "cell_type": "code",
   "execution_count": 13,
   "id": "20ae7f2a",
   "metadata": {},
   "outputs": [],
   "source": [
    "lista = [500, 30, 300, 80, 10]"
   ]
  },
  {
   "cell_type": "code",
   "execution_count": 14,
   "id": "8471b3fe",
   "metadata": {},
   "outputs": [
    {
     "data": {
      "text/plain": [
       "500"
      ]
     },
     "execution_count": 14,
     "metadata": {},
     "output_type": "execute_result"
    }
   ],
   "source": [
    "max(lista)"
   ]
  },
  {
   "cell_type": "code",
   "execution_count": 15,
   "id": "9d8a3f5f",
   "metadata": {},
   "outputs": [
    {
     "data": {
      "text/plain": [
       "10"
      ]
     },
     "execution_count": 15,
     "metadata": {},
     "output_type": "execute_result"
    }
   ],
   "source": [
    "min(lista)"
   ]
  },
  {
   "cell_type": "code",
   "execution_count": 16,
   "id": "a8bd04b6",
   "metadata": {},
   "outputs": [],
   "source": [
    "animais.append([\"leão\", \"Cachorro\"])"
   ]
  },
  {
   "cell_type": "code",
   "execution_count": 17,
   "id": "f14cad6e",
   "metadata": {},
   "outputs": [
    {
     "data": {
      "text/plain": [
       "['papagaio', 12345, 6.5, ['leão', 'Cachorro']]"
      ]
     },
     "execution_count": 17,
     "metadata": {},
     "output_type": "execute_result"
    }
   ],
   "source": [
    "animais"
   ]
  },
  {
   "cell_type": "code",
   "execution_count": 18,
   "id": "0f4dfeb2",
   "metadata": {},
   "outputs": [],
   "source": [
    "animais.extend([\"cobra\", 6])"
   ]
  },
  {
   "cell_type": "code",
   "execution_count": 19,
   "id": "b18501a8",
   "metadata": {},
   "outputs": [
    {
     "data": {
      "text/plain": [
       "['papagaio', 12345, 6.5, ['leão', 'Cachorro'], 'cobra', 6]"
      ]
     },
     "execution_count": 19,
     "metadata": {},
     "output_type": "execute_result"
    }
   ],
   "source": [
    "animais"
   ]
  },
  {
   "cell_type": "code",
   "execution_count": 20,
   "id": "ca14259f",
   "metadata": {},
   "outputs": [
    {
     "data": {
      "text/plain": [
       "0"
      ]
     },
     "execution_count": 20,
     "metadata": {},
     "output_type": "execute_result"
    }
   ],
   "source": [
    "animais.count(\"leão\")"
   ]
  },
  {
   "cell_type": "code",
   "execution_count": 21,
   "id": "4f54c5d4",
   "metadata": {},
   "outputs": [
    {
     "data": {
      "text/plain": [
       "1"
      ]
     },
     "execution_count": 21,
     "metadata": {},
     "output_type": "execute_result"
    }
   ],
   "source": [
    "animais.count([\"leão\", \"Cachorro\"])"
   ]
  },
  {
   "cell_type": "code",
   "execution_count": 22,
   "id": "a5edf1fb",
   "metadata": {},
   "outputs": [
    {
     "name": "stdout",
     "output_type": "stream",
     "text": [
      "['leão', 'Cachorro']\n",
      "leão\n"
     ]
    }
   ],
   "source": [
    "print(animais[3])\n",
    "print(animais[3][0])"
   ]
  },
  {
   "cell_type": "code",
   "execution_count": 23,
   "id": "ff8b8d81",
   "metadata": {},
   "outputs": [],
   "source": [
    "lista.sort()"
   ]
  },
  {
   "cell_type": "code",
   "execution_count": 24,
   "id": "ca975ce7",
   "metadata": {},
   "outputs": [
    {
     "data": {
      "text/plain": [
       "[10, 30, 80, 300, 500]"
      ]
     },
     "execution_count": 24,
     "metadata": {},
     "output_type": "execute_result"
    }
   ],
   "source": [
    "lista"
   ]
  },
  {
   "cell_type": "markdown",
   "id": "b5e82b3b",
   "metadata": {},
   "source": [
    "## *Tuplas*"
   ]
  },
  {
   "cell_type": "code",
   "execution_count": 25,
   "id": "eb34a90e",
   "metadata": {},
   "outputs": [],
   "source": [
    "#As tuplas usam parênteses como sintaxe\n",
    "tp = (\"Banana\", \"Maçã\", 10, 50)"
   ]
  },
  {
   "cell_type": "code",
   "execution_count": 26,
   "id": "0279c920",
   "metadata": {},
   "outputs": [
    {
     "data": {
      "text/plain": [
       "'Banana'"
      ]
     },
     "execution_count": 26,
     "metadata": {},
     "output_type": "execute_result"
    }
   ],
   "source": [
    "#Retornando o primeiro elemento\n",
    "tp[0]"
   ]
  },
  {
   "cell_type": "code",
   "execution_count": 27,
   "id": "f4f57a1b",
   "metadata": {},
   "outputs": [
    {
     "ename": "TypeError",
     "evalue": "'tuple' object does not support item assignment",
     "output_type": "error",
     "traceback": [
      "\u001b[1;31m---------------------------------------------------------------------------\u001b[0m",
      "\u001b[1;31mTypeError\u001b[0m                                 Traceback (most recent call last)",
      "\u001b[1;32m~\\AppData\\Local\\Temp/ipykernel_8684/487088381.py\u001b[0m in \u001b[0;36m<module>\u001b[1;34m\u001b[0m\n\u001b[0;32m      1\u001b[0m \u001b[1;31m#Diferente das listas as tuplas são imutáveis, o que quer dizer que não podemos alterar os seus elementos\u001b[0m\u001b[1;33m\u001b[0m\u001b[1;33m\u001b[0m\u001b[1;33m\u001b[0m\u001b[0m\n\u001b[1;32m----> 2\u001b[1;33m \u001b[0mtp\u001b[0m\u001b[1;33m[\u001b[0m\u001b[1;36m0\u001b[0m\u001b[1;33m]\u001b[0m \u001b[1;33m=\u001b[0m \u001b[1;34m\"Laranja\"\u001b[0m\u001b[1;33m\u001b[0m\u001b[1;33m\u001b[0m\u001b[0m\n\u001b[0m",
      "\u001b[1;31mTypeError\u001b[0m: 'tuple' object does not support item assignment"
     ]
    }
   ],
   "source": [
    "#Diferente das listas as tuplas são imutáveis, o que quer dizer que não podemos alterar os seus elementos\n",
    "tp[0] = \"Laranja\""
   ]
  },
  {
   "cell_type": "code",
   "execution_count": null,
   "id": "ce552183",
   "metadata": {},
   "outputs": [],
   "source": [
    "tp.count(\"Maçã\")"
   ]
  },
  {
   "cell_type": "code",
   "execution_count": null,
   "id": "026f0935",
   "metadata": {},
   "outputs": [],
   "source": [
    "tp[0:2]"
   ]
  },
  {
   "cell_type": "markdown",
   "id": "21d459cf",
   "metadata": {},
   "source": [
    "## *Dicionários*"
   ]
  },
  {
   "cell_type": "code",
   "execution_count": null,
   "id": "da7b443e",
   "metadata": {},
   "outputs": [],
   "source": [
    "#Para criar um dicionário utilizamos as {}\n",
    "dc = {\"Maçã\":20, \"Banana\":10, \"Laranja\":15, \"Uva\":5} #Dicionários trabalham com o condeito chave e valor"
   ]
  },
  {
   "cell_type": "code",
   "execution_count": null,
   "id": "457c6ac7",
   "metadata": {},
   "outputs": [],
   "source": [
    "dc"
   ]
  },
  {
   "cell_type": "code",
   "execution_count": null,
   "id": "d0c715dc",
   "metadata": {},
   "outputs": [],
   "source": [
    "#Acessando o valor de um dicionário através da chave\n",
    "dc[\"Maçã\"]"
   ]
  },
  {
   "cell_type": "code",
   "execution_count": null,
   "id": "839c84a9",
   "metadata": {},
   "outputs": [],
   "source": [
    "#Atualizando o valor da Maçã\n",
    "dc[\"Maçã\"] = 25\n",
    "dc"
   ]
  },
  {
   "cell_type": "code",
   "execution_count": null,
   "id": "0482aa26",
   "metadata": {},
   "outputs": [],
   "source": [
    "#Retornando todas as chaves do dicionário\n",
    "dc.keys()"
   ]
  },
  {
   "cell_type": "code",
   "execution_count": null,
   "id": "4d3932e5",
   "metadata": {},
   "outputs": [],
   "source": [
    "#Retornando os valores do dicionário\n",
    "dc.values()"
   ]
  },
  {
   "cell_type": "code",
   "execution_count": null,
   "id": "2a66ad5d",
   "metadata": {},
   "outputs": [],
   "source": [
    "#Verificando se já existe uma chave no dicionário e caso não exista inserir\n",
    "dc.setdefault(\"Limão\", 22)"
   ]
  },
  {
   "cell_type": "code",
   "execution_count": null,
   "id": "5eb9e4e1",
   "metadata": {},
   "outputs": [],
   "source": [
    "dc"
   ]
  }
 ],
 "metadata": {
  "kernelspec": {
   "display_name": "Python 3 (ipykernel)",
   "language": "python",
   "name": "python3"
  },
  "language_info": {
   "codemirror_mode": {
    "name": "ipython",
    "version": 3
   },
   "file_extension": ".py",
   "mimetype": "text/x-python",
   "name": "python",
   "nbconvert_exporter": "python",
   "pygments_lexer": "ipython3",
   "version": "3.9.6"
  }
 },
 "nbformat": 4,
 "nbformat_minor": 5
}
