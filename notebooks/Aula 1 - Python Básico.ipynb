{
 "cells": [
  {
   "cell_type": "code",
   "execution_count": 1,
   "id": "559b470a",
   "metadata": {},
   "outputs": [
    {
     "name": "stdout",
     "output_type": "stream",
     "text": [
      "Olá Mundo\n"
     ]
    }
   ],
   "source": [
    "print(\"Olá Mundo\")"
   ]
  },
  {
   "cell_type": "code",
   "execution_count": 2,
   "id": "04791736",
   "metadata": {},
   "outputs": [
    {
     "name": "stdout",
     "output_type": "stream",
     "text": [
      "Estou aprendendo Python\n"
     ]
    }
   ],
   "source": [
    "print(\"Estou aprendendo Python\")"
   ]
  },
  {
   "cell_type": "code",
   "execution_count": 3,
   "id": "947b4ccb",
   "metadata": {},
   "outputs": [
    {
     "data": {
      "text/plain": [
       "'Estou aprendendo Python'"
      ]
     },
     "execution_count": 3,
     "metadata": {},
     "output_type": "execute_result"
    }
   ],
   "source": [
    "\"Estou aprendendo Python\""
   ]
  },
  {
   "cell_type": "code",
   "execution_count": 4,
   "id": "af0e985b",
   "metadata": {},
   "outputs": [
    {
     "data": {
      "text/plain": [
       "2"
      ]
     },
     "execution_count": 4,
     "metadata": {},
     "output_type": "execute_result"
    }
   ],
   "source": [
    "1 + 1"
   ]
  },
  {
   "cell_type": "code",
   "execution_count": 5,
   "id": "40d58329",
   "metadata": {},
   "outputs": [
    {
     "data": {
      "text/plain": [
       "8"
      ]
     },
     "execution_count": 5,
     "metadata": {},
     "output_type": "execute_result"
    }
   ],
   "source": [
    "10 - 2"
   ]
  },
  {
   "cell_type": "code",
   "execution_count": 6,
   "id": "c43c6e57",
   "metadata": {},
   "outputs": [],
   "source": [
    "#Esse é um comentário em Python"
   ]
  },
  {
   "cell_type": "code",
   "execution_count": 8,
   "id": "15219ef9",
   "metadata": {},
   "outputs": [
    {
     "data": {
      "text/plain": [
       "4"
      ]
     },
     "execution_count": 8,
     "metadata": {},
     "output_type": "execute_result"
    }
   ],
   "source": [
    "#Multiplicação\n",
    "2 * 2"
   ]
  },
  {
   "cell_type": "code",
   "execution_count": 9,
   "id": "7f5eb641",
   "metadata": {},
   "outputs": [
    {
     "data": {
      "text/plain": [
       "5.0"
      ]
     },
     "execution_count": 9,
     "metadata": {},
     "output_type": "execute_result"
    }
   ],
   "source": [
    "#Divisão\n",
    "10/2"
   ]
  },
  {
   "cell_type": "code",
   "execution_count": 10,
   "id": "f1ccd466",
   "metadata": {},
   "outputs": [],
   "source": [
    "a = 4\n",
    "b = 6"
   ]
  },
  {
   "cell_type": "code",
   "execution_count": 11,
   "id": "49ecd52f",
   "metadata": {},
   "outputs": [
    {
     "data": {
      "text/plain": [
       "10"
      ]
     },
     "execution_count": 11,
     "metadata": {},
     "output_type": "execute_result"
    }
   ],
   "source": [
    "a + b"
   ]
  },
  {
   "cell_type": "code",
   "execution_count": 28,
   "id": "9d612b6b",
   "metadata": {},
   "outputs": [],
   "source": [
    "#Criando uma variável do tipo string\n",
    "frase = \"Python para análise de dados\""
   ]
  },
  {
   "cell_type": "code",
   "execution_count": 13,
   "id": "b1d5b449",
   "metadata": {},
   "outputs": [
    {
     "data": {
      "text/plain": [
       "'P'"
      ]
     },
     "execution_count": 13,
     "metadata": {},
     "output_type": "execute_result"
    }
   ],
   "source": [
    "#Obtendo a posição 0 da frase\n",
    "frase[0]"
   ]
  },
  {
   "cell_type": "code",
   "execution_count": 14,
   "id": "fe693d8a",
   "metadata": {},
   "outputs": [
    {
     "data": {
      "text/plain": [
       "'Python par'"
      ]
     },
     "execution_count": 14,
     "metadata": {},
     "output_type": "execute_result"
    }
   ],
   "source": [
    "#Obtendo da posição 0 até a posição 9 da frase\n",
    "frase[0:10]"
   ]
  },
  {
   "cell_type": "code",
   "execution_count": 18,
   "id": "0de9d335",
   "metadata": {},
   "outputs": [
    {
     "data": {
      "text/plain": [
       "'a análise de dados'"
      ]
     },
     "execution_count": 18,
     "metadata": {},
     "output_type": "execute_result"
    }
   ],
   "source": [
    "#Obtendo a frase a partir da posição 10\n",
    "frase[10:]"
   ]
  },
  {
   "cell_type": "code",
   "execution_count": 19,
   "id": "5fd3fc52",
   "metadata": {},
   "outputs": [
    {
     "data": {
      "text/plain": [
       "'Python para análi'"
      ]
     },
     "execution_count": 19,
     "metadata": {},
     "output_type": "execute_result"
    }
   ],
   "source": [
    "#obtendo a frase até a posição 16\n",
    "frase[:17]"
   ]
  },
  {
   "cell_type": "code",
   "execution_count": 20,
   "id": "a9ac77c3",
   "metadata": {},
   "outputs": [
    {
     "data": {
      "text/plain": [
       "1"
      ]
     },
     "execution_count": 20,
     "metadata": {},
     "output_type": "execute_result"
    }
   ],
   "source": [
    "#Contando quanto \"Dados\" tem na frase\n",
    "frase.count(\"dados\")"
   ]
  },
  {
   "cell_type": "code",
   "execution_count": 23,
   "id": "6d3c396b",
   "metadata": {},
   "outputs": [
    {
     "data": {
      "text/plain": [
       "'Frase para análise de dados'"
      ]
     },
     "execution_count": 23,
     "metadata": {},
     "output_type": "execute_result"
    }
   ],
   "source": [
    "#Trocando a palavra \"Python\" por \"Frase\"\n",
    "frase.replace(\"Python\", \"Frase\")"
   ]
  },
  {
   "cell_type": "code",
   "execution_count": 21,
   "id": "4c74b8b2",
   "metadata": {},
   "outputs": [
    {
     "data": {
      "text/plain": [
       "'python para análise de dados'"
      ]
     },
     "execution_count": 21,
     "metadata": {},
     "output_type": "execute_result"
    }
   ],
   "source": [
    "#Obtendo a frase toda em minúscula\n",
    "frase.lower()"
   ]
  },
  {
   "cell_type": "code",
   "execution_count": 30,
   "id": "e51ade7c",
   "metadata": {},
   "outputs": [],
   "source": [
    "#Alterando a frase para toda em maiúscula\n",
    "frase = frase.upper()"
   ]
  },
  {
   "cell_type": "code",
   "execution_count": 31,
   "id": "7a5d0856",
   "metadata": {},
   "outputs": [
    {
     "data": {
      "text/plain": [
       "'PYTHON PARA ANÁLISE DE DADOS'"
      ]
     },
     "execution_count": 31,
     "metadata": {},
     "output_type": "execute_result"
    }
   ],
   "source": [
    "#Verificando o resulado\n",
    "frase"
   ]
  }
 ],
 "metadata": {
  "kernelspec": {
   "display_name": "Python 3 (ipykernel)",
   "language": "python",
   "name": "python3"
  },
  "language_info": {
   "codemirror_mode": {
    "name": "ipython",
    "version": 3
   },
   "file_extension": ".py",
   "mimetype": "text/x-python",
   "name": "python",
   "nbconvert_exporter": "python",
   "pygments_lexer": "ipython3",
   "version": "3.9.6"
  }
 },
 "nbformat": 4,
 "nbformat_minor": 5
}
